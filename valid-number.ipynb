{
 "cells": [
  {
   "cell_type": "code",
   "execution_count": null,
   "metadata": {},
   "outputs": [],
   "source": [
    "\n"
   ]
  },
  {
   "cell_type": "code",
   "execution_count": null,
   "metadata": {},
   "outputs": [],
   "source": []
  },
  {
   "cell_type": "code",
   "execution_count": 1,
   "metadata": {},
   "outputs": [],
   "source": [
    "class Solution:\n",
    "    def isNumber(self, s: str) -> bool:\n",
    "        s = s.strip()\n",
    "        numbers = [str(i) for i in range(10)]\n",
    "        n = len(s)\n",
    "        \n",
    "        e_show_up, dot_show_up, num_show_up, num_after_e = False, False, False, False\n",
    "        \n",
    "        for i in range(n):\n",
    "            c = s[i]\n",
    "            if c in numbers:\n",
    "                num_show_up = True\n",
    "                num_after_e = True\n",
    "            elif c in ('+', '-'):\n",
    "                if i > 0 and s[i-1] != 'e':\n",
    "                    return False\n",
    "            elif c == '.':\n",
    "                if dot_show_up or e_show_up:\n",
    "                    return False\n",
    "                dot_show_up = True\n",
    "            elif c == 'e':\n",
    "                if e_show_up or not num_show_up:\n",
    "                    return False\n",
    "                e_show_up = True\n",
    "                num_show_up = False\n",
    "            else:\n",
    "                return False\n",
    "            \n",
    "        return num_show_up and num_after_e\n",
    "                \n",
    "                "
   ]
  },
  {
   "cell_type": "code",
   "execution_count": null,
   "metadata": {},
   "outputs": [],
   "source": []
  }
 ],
 "metadata": {
  "kernelspec": {
   "display_name": "Python 3",
   "language": "python",
   "name": "python3"
  },
  "language_info": {
   "codemirror_mode": {
    "name": "ipython",
    "version": 3
   },
   "file_extension": ".py",
   "mimetype": "text/x-python",
   "name": "python",
   "nbconvert_exporter": "python",
   "pygments_lexer": "ipython3",
   "version": "3.7.6"
  }
 },
 "nbformat": 4,
 "nbformat_minor": 4
}
