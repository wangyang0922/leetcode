{
 "cells": [
  {
   "cell_type": "markdown",
   "metadata": {},
   "source": [
    "有效数字（按顺序）可以分成以下几个部分：\n",
    "\n",
    "一个 小数 或者 整数\n",
    "（可选）一个 'e' 或 'E' ，后面跟着一个 整数\n",
    "小数（按顺序）可以分成以下几个部分：\n",
    "\n",
    "（可选）一个符号字符（'+' 或 '-'）\n",
    "下述格式之一：\n",
    "至少一位数字，后面跟着一个点 '.'\n",
    "至少一位数字，后面跟着一个点 '.' ，后面再跟着至少一位数字\n",
    "一个点 '.' ，后面跟着至少一位数字\n",
    "整数（按顺序）可以分成以下几个部分：\n",
    "\n",
    "（可选）一个符号字符（'+' 或 '-'）\n",
    "至少一位数字\n",
    "部分有效数字列举如下：\n",
    "\n",
    "[\"2\", \"0089\", \"-0.1\", \"+3.14\", \"4.\", \"-.9\", \"2e10\", \"-90E3\", \"3e+7\", \"+6e-1\", \"53.5e93\", \"-123.456e789\"]\n",
    "部分无效数字列举如下：\n",
    "\n",
    "[\"abc\", \"1a\", \"1e\", \"e3\", \"99e2.5\", \"--6\", \"-+3\", \"95a54e53\"]\n",
    "给你一个字符串 s ，如果 s 是一个 有效数字 ，请返回 true 。\n",
    "\n",
    " \n",
    "\n",
    "示例 1：\n",
    "\n",
    "输入：s = \"0\"\n",
    "输出：true\n",
    "\n"
   ]
  },
  {
   "cell_type": "code",
   "execution_count": null,
   "metadata": {},
   "outputs": [],
   "source": []
  },
  {
   "cell_type": "code",
   "execution_count": 1,
   "metadata": {},
   "outputs": [],
   "source": [
    "class Solution:\n",
    "    def isNumber(self, s: str) -> bool:\n",
    "        s = s.strip()\n",
    "        numbers = [str(i) for i in range(10)]\n",
    "        n = len(s)\n",
    "        \n",
    "        e_show_up, dot_show_up, num_show_up, num_after_e = False, False, False, False\n",
    "        \n",
    "        for i in range(n):\n",
    "            c = s[i]\n",
    "            if c in numbers:\n",
    "                num_show_up = True\n",
    "                num_after_e = True\n",
    "            elif c in ('+', '-'):\n",
    "                if i > 0 and s[i-1] != 'e':\n",
    "                    return False\n",
    "            elif c == '.':\n",
    "                if dot_show_up or e_show_up:\n",
    "                    return False\n",
    "                dot_show_up = True\n",
    "            elif c == 'e':\n",
    "                if e_show_up or not num_show_up:\n",
    "                    return False\n",
    "                e_show_up = True\n",
    "                num_show_up = False\n",
    "            else:\n",
    "                return False\n",
    "            \n",
    "        return num_show_up and num_after_e\n",
    "                \n",
    "                "
   ]
  },
  {
   "cell_type": "code",
   "execution_count": null,
   "metadata": {},
   "outputs": [],
   "source": []
  }
 ],
 "metadata": {
  "kernelspec": {
   "display_name": "Python 3",
   "language": "python",
   "name": "python3"
  },
  "language_info": {
   "codemirror_mode": {
    "name": "ipython",
    "version": 3
   },
   "file_extension": ".py",
   "mimetype": "text/x-python",
   "name": "python",
   "nbconvert_exporter": "python",
   "pygments_lexer": "ipython3",
   "version": "3.7.6"
  }
 },
 "nbformat": 4,
 "nbformat_minor": 4
}
